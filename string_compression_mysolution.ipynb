{
 "cells": [
  {
   "cell_type": "code",
   "execution_count": 22,
   "metadata": {
    "collapsed": true
   },
   "outputs": [],
   "source": [
    "def compress(s):\n",
    "    hold_char = s[0]\n",
    "    char_count = 0\n",
    "    final=[]\n",
    "    for character in s:\n",
    "        if character == hold_char:\n",
    "            char_count += 1\n",
    "        else:\n",
    "            final.append(hold_char)\n",
    "            final.append(char_count)\n",
    "            hold_char = character\n",
    "            char_count = 1\n",
    "    final.append(hold_char)\n",
    "    final.append(char_count)\n",
    "    final_string = ''.join(str(e) for e in final)\n",
    "    return final_string"
   ]
  },
  {
   "cell_type": "code",
   "execution_count": 23,
   "metadata": {},
   "outputs": [
    {
     "data": {
      "text/plain": [
       "'A4a3B4a3C4a3c3'"
      ]
     },
     "execution_count": 23,
     "metadata": {},
     "output_type": "execute_result"
    }
   ],
   "source": [
    "compress('AAAAaaaBBBBaaaCCCCaaaccc')"
   ]
  },
  {
   "cell_type": "code",
   "execution_count": null,
   "metadata": {
    "collapsed": true
   },
   "outputs": [],
   "source": []
  }
 ],
 "metadata": {
  "kernelspec": {
   "display_name": "Python 3",
   "language": "python",
   "name": "python3"
  },
  "language_info": {
   "codemirror_mode": {
    "name": "ipython",
    "version": 3
   },
   "file_extension": ".py",
   "mimetype": "text/x-python",
   "name": "python",
   "nbconvert_exporter": "python",
   "pygments_lexer": "ipython3",
   "version": "3.6.3"
  }
 },
 "nbformat": 4,
 "nbformat_minor": 2
}
