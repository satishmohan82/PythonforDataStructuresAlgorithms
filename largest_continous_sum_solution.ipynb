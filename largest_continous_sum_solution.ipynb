{
 "cells": [
  {
   "cell_type": "code",
   "execution_count": 6,
   "metadata": {},
   "outputs": [],
   "source": [
    "def largest_cont_sum(arr):\n",
    "    \n",
    "    if len(arr)==0:\n",
    "        return 0\n",
    "    \n",
    "    max_sum = current_sum = arr[0]\n",
    "    \n",
    "    for num in arr[1:]:\n",
    "        print('num is {}'.format(num))\n",
    "        print('current sum is {}'.format(current_sum))\n",
    "        current_sum = max(current_sum+num,num)\n",
    "        print('current sum after max function {}'.format(current_sum))\n",
    "        print('max sum before {}'.format(max_sum))\n",
    "        max_sum = max(current_sum,max_sum)\n",
    "        print('max sum after {}'.format(max_sum)) \n",
    "    return max_sum\n"
   ]
  },
  {
   "cell_type": "code",
   "execution_count": 7,
   "metadata": {},
   "outputs": [
    {
     "name": "stdout",
     "output_type": "stream",
     "text": [
      "num is 2\n",
      "current sum is 1\n",
      "current sum after max function 3\n",
      "max sum before 1\n",
      "max sum after 3\n",
      "num is -1\n",
      "current sum is 3\n",
      "current sum after max function 2\n",
      "max sum before 3\n",
      "max sum after 3\n",
      "num is 3\n",
      "current sum is 2\n",
      "current sum after max function 5\n",
      "max sum before 3\n",
      "max sum after 5\n",
      "num is 4\n",
      "current sum is 5\n",
      "current sum after max function 9\n",
      "max sum before 5\n",
      "max sum after 9\n",
      "num is 10\n",
      "current sum is 9\n",
      "current sum after max function 19\n",
      "max sum before 9\n",
      "max sum after 19\n",
      "num is 10\n",
      "current sum is 19\n",
      "current sum after max function 29\n",
      "max sum before 19\n",
      "max sum after 29\n",
      "num is -10\n",
      "current sum is 29\n",
      "current sum after max function 19\n",
      "max sum before 29\n",
      "max sum after 29\n",
      "num is -1\n",
      "current sum is 19\n",
      "current sum after max function 18\n",
      "max sum before 29\n",
      "max sum after 29\n"
     ]
    },
    {
     "data": {
      "text/plain": [
       "29"
      ]
     },
     "execution_count": 7,
     "metadata": {},
     "output_type": "execute_result"
    }
   ],
   "source": [
    "largest_cont_sum([1,2,-1,3,4,10,10,-10,-1])"
   ]
  },
  {
   "cell_type": "code",
   "execution_count": null,
   "metadata": {
    "collapsed": true
   },
   "outputs": [],
   "source": []
  }
 ],
 "metadata": {
  "kernelspec": {
   "display_name": "Python 3",
   "language": "python",
   "name": "python3"
  },
  "language_info": {
   "codemirror_mode": {
    "name": "ipython",
    "version": 3
   },
   "file_extension": ".py",
   "mimetype": "text/x-python",
   "name": "python",
   "nbconvert_exporter": "python",
   "pygments_lexer": "ipython3",
   "version": "3.6.3"
  }
 },
 "nbformat": 4,
 "nbformat_minor": 2
}
