{
 "cells": [
  {
   "cell_type": "code",
   "execution_count": 61,
   "metadata": {
    "collapsed": true
   },
   "outputs": [],
   "source": [
    "def AnagramCheck(s1,s2):\n",
    "    \n",
    "    lists1 = list(s1)\n",
    " \n",
    "    lists2 = list(s2)\n",
    "   \n",
    "    character_index = 0\n",
    "    alphabets = list('abcdefghijklmnopqrstuvwxyz')\n",
    "    \n",
    "    lists1_count_check = []\n",
    "    lists2_count_check = []\n",
    "    \n",
    "    if len(lists1) == len(lists2):\n",
    "        \n",
    "        alphabet_length = len(alphabets)\n",
    "        \n",
    "        for characters in alphabets:\n",
    "           \n",
    "            lists1_count = 0    \n",
    "            lists2_count = 0\n",
    "\n",
    "            for i1 in lists1:\n",
    "                if i1 == characters:\n",
    "                    lists1_count +=1\n",
    "            \n",
    "            for i2 in lists2:\n",
    "                if i2 == characters:\n",
    "                    lists2_count +=1\n",
    "            \n",
    "                     \n",
    "            lists1_count_check.append(lists1_count)\n",
    "            lists2_count_check.append(lists2_count)\n",
    "            \n",
    "            character_index +=1 \n",
    "            \n",
    "        print(lists1_count_check)\n",
    "        print(lists2_count_check)\n",
    "\n",
    "        if lists1_count_check == lists2_count_check: \n",
    "            print(\"Its a Anagram!!!\")\n",
    "        else:\n",
    "            print(\"Its not a Anagram\")\n",
    "    else:\n",
    "        print(\"Its not a Anagram\")\n",
    "    \n",
    "            \n",
    "        \n",
    "            \n",
    "            \n",
    "            \n",
    "            \n",
    "            \n",
    "    \n",
    "    "
   ]
  },
  {
   "cell_type": "code",
   "execution_count": 62,
   "metadata": {},
   "outputs": [
    {
     "name": "stdout",
     "output_type": "stream",
     "text": [
      "Its not a Anagram\n"
     ]
    }
   ],
   "source": [
    "AnagramCheck('i am a stupid guy do you know','i am a stupid guy do you kow')"
   ]
  },
  {
   "cell_type": "code",
   "execution_count": null,
   "metadata": {
    "collapsed": true
   },
   "outputs": [],
   "source": []
  }
 ],
 "metadata": {
  "kernelspec": {
   "display_name": "Python 3",
   "language": "python",
   "name": "python3"
  },
  "language_info": {
   "codemirror_mode": {
    "name": "ipython",
    "version": 3
   },
   "file_extension": ".py",
   "mimetype": "text/x-python",
   "name": "python",
   "nbconvert_exporter": "python",
   "pygments_lexer": "ipython3",
   "version": "3.6.3"
  }
 },
 "nbformat": 4,
 "nbformat_minor": 2
}
