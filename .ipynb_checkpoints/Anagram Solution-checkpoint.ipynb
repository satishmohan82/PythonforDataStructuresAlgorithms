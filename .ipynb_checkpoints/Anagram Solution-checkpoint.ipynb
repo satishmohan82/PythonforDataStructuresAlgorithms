{
 "cells": [
  {
   "cell_type": "markdown",
   "metadata": {},
   "source": [
    "    Anagram Solution"
   ]
  },
  {
   "cell_type": "code",
   "execution_count": null,
   "metadata": {
    "collapsed": true
   },
   "outputs": [],
   "source": [
    "#simple solution "
   ]
  },
  {
   "cell_type": "code",
   "execution_count": 4,
   "metadata": {},
   "outputs": [],
   "source": [
    "def anagram(s1,s2):\n",
    "    s1 = s1.replace(' ','').lower()\n",
    "    s1 = s1.replace(' ','').lower()\n",
    "    \n",
    "    return sorted(s1) == sorted(s2)"
   ]
  },
  {
   "cell_type": "code",
   "execution_count": 5,
   "metadata": {},
   "outputs": [
    {
     "data": {
      "text/plain": [
       "True"
      ]
     },
     "execution_count": 5,
     "metadata": {},
     "output_type": "execute_result"
    }
   ],
   "source": [
    "anagram('dog','god')"
   ]
  },
  {
   "cell_type": "code",
   "execution_count": 6,
   "metadata": {
    "collapsed": true
   },
   "outputs": [],
   "source": [
    "#complex solution "
   ]
  },
  {
   "cell_type": "code",
   "execution_count": 8,
   "metadata": {},
   "outputs": [
    {
     "ename": "SyntaxError",
     "evalue": "invalid syntax (<ipython-input-8-af268abbe72b>, line 14)",
     "output_type": "error",
     "traceback": [
      "\u001b[1;36m  File \u001b[1;32m\"<ipython-input-8-af268abbe72b>\"\u001b[1;36m, line \u001b[1;32m14\u001b[0m\n\u001b[1;33m    else\u001b[0m\n\u001b[1;37m        ^\u001b[0m\n\u001b[1;31mSyntaxError\u001b[0m\u001b[1;31m:\u001b[0m invalid syntax\n"
     ]
    }
   ],
   "source": [
    "def anagram2(s1,s2):\n",
    "    s1 = s1.replace(' ','').lower()\n",
    "    s1 = s1.replace(' ','').lower()\n",
    "    \n",
    "    # edge case check \n",
    "    if len(s1) != len(s2):\n",
    "        return False\n",
    "    \n",
    "    count = {}\n",
    "    \n",
    "    for letter in s1:\n",
    "        if letter in count:\n",
    "            count[letter] += 1 \n",
    "        else:\n",
    "            count[letter] = 1\n",
    "    \n",
    "    print(count)\n",
    "    \n",
    "    for letter in s2:\n",
    "        if letter in count:\n",
    "            count[letter] -= 1 \n",
    "        else:\n",
    "            count[letter] = 1\n",
    "    \n",
    "    print(count)\n",
    "    \n",
    "    for k in count:\n",
    "        if count[k] != 0\n",
    "            return False\n",
    "    return True\n",
    "        \n"
   ]
  },
  {
   "cell_type": "code",
   "execution_count": null,
   "metadata": {
    "collapsed": true
   },
   "outputs": [],
   "source": []
  }
 ],
 "metadata": {
  "kernelspec": {
   "display_name": "Python 3",
   "language": "python",
   "name": "python3"
  },
  "language_info": {
   "codemirror_mode": {
    "name": "ipython",
    "version": 3
   },
   "file_extension": ".py",
   "mimetype": "text/x-python",
   "name": "python",
   "nbconvert_exporter": "python",
   "pygments_lexer": "ipython3",
   "version": "3.6.3"
  }
 },
 "nbformat": 4,
 "nbformat_minor": 2
}
