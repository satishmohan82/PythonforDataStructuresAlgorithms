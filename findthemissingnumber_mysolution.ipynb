{
 "cells": [
  {
   "cell_type": "code",
   "execution_count": 9,
   "metadata": {},
   "outputs": [],
   "source": [
    "def finder_simple(arr1,arr2):\n",
    "    \n",
    "    # edge case check\n",
    "    if len(arr2) >= len(arr1):\n",
    "        return\n",
    "    print((sum(arr1)) - (sum(arr2)))"
   ]
  },
  {
   "cell_type": "code",
   "execution_count": 50,
   "metadata": {},
   "outputs": [],
   "source": [
    "finder_simple([1,2,3,4,5,6,7],[7,2,3,4,1,6])"
   ]
  },
  {
   "cell_type": "code",
   "execution_count": 55,
   "metadata": {},
   "outputs": [],
   "source": [
    "def finder(arr1,arr2):\n",
    "    \n",
    "    # edge case check\n",
    "    if len(arr2) != len(arr1) -1 :\n",
    "        return\n",
    "    # get value and pass it to a dict as a key and set value for it \n",
    "    my_dict = dict()\n",
    "    for value in arr1: \n",
    "        if value not in my_dict:\n",
    "            my_dict[value] = 1  \n",
    "        else:\n",
    "            my_dict[value] += 1\n",
    "    \n",
    "    # start dicrementing value when new value is found \n",
    "    for match in arr2:\n",
    "        if match not in my_dict:\n",
    "            return\n",
    "        else:\n",
    "            my_dict[match] -= 1\n",
    "            if my_dict[match] < 0:\n",
    "                print(my_dict[match])\n",
    "                return\n",
    "            \n",
    "    # find the value with the missing number     \n",
    "    print(list(my_dict.keys())[list(my_dict.values()).index(1)]) \n",
    "    "
   ]
  },
  {
   "cell_type": "code",
   "execution_count": 58,
   "metadata": {},
   "outputs": [
    {
     "name": "stdout",
     "output_type": "stream",
     "text": [
      "1\n"
     ]
    }
   ],
   "source": [
    "finder([1,2,3,4,5,6,7],[7,2,3,4,5,6])"
   ]
  },
  {
   "cell_type": "code",
   "execution_count": null,
   "metadata": {
    "collapsed": true
   },
   "outputs": [],
   "source": []
  }
 ],
 "metadata": {
  "kernelspec": {
   "display_name": "Python 3",
   "language": "python",
   "name": "python3"
  },
  "language_info": {
   "codemirror_mode": {
    "name": "ipython",
    "version": 3
   },
   "file_extension": ".py",
   "mimetype": "text/x-python",
   "name": "python",
   "nbconvert_exporter": "python",
   "pygments_lexer": "ipython3",
   "version": "3.6.3"
  }
 },
 "nbformat": 4,
 "nbformat_minor": 2
}
