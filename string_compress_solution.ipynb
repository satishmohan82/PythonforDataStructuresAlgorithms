{
 "cells": [
  {
   "cell_type": "code",
   "execution_count": 2,
   "metadata": {},
   "outputs": [],
   "source": [
    "def compress(s):\n",
    "\n",
    "    r = \"\"\n",
    "    l = len(s)\n",
    "\n",
    "    if len ==0:\n",
    "        return \"\"\n",
    "\n",
    "    if len ==1:\n",
    "        return s+ \"1\"\n",
    "\n",
    "\n",
    "    last = s[0]\n",
    "    cnt = 1\n",
    "    i = 1\n",
    "\n",
    "    while i <l: \n",
    "        \n",
    "        if s[i] == s[i-1]:\n",
    "            cnt +=1 \n",
    "        else:\n",
    "            r = r + s[i-1]+str(cnt)\n",
    "            cnt = 1\n",
    "            \n",
    "        i += 1 \n",
    "    r = r + s[i-1] + str(cnt)\n",
    "    \n",
    "    return r\n",
    "    "
   ]
  },
  {
   "cell_type": "code",
   "execution_count": 4,
   "metadata": {},
   "outputs": [
    {
     "data": {
      "text/plain": [
       "'A2a2'"
      ]
     },
     "execution_count": 4,
     "metadata": {},
     "output_type": "execute_result"
    }
   ],
   "source": [
    "compress('AAaa')"
   ]
  },
  {
   "cell_type": "code",
   "execution_count": null,
   "metadata": {
    "collapsed": true
   },
   "outputs": [],
   "source": []
  }
 ],
 "metadata": {
  "kernelspec": {
   "display_name": "Python 3",
   "language": "python",
   "name": "python3"
  },
  "language_info": {
   "codemirror_mode": {
    "name": "ipython",
    "version": 3
   },
   "file_extension": ".py",
   "mimetype": "text/x-python",
   "name": "python",
   "nbconvert_exporter": "python",
   "pygments_lexer": "ipython3",
   "version": "3.6.3"
  }
 },
 "nbformat": 4,
 "nbformat_minor": 2
}
