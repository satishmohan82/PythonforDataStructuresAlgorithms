{
 "cells": [
  {
   "cell_type": "code",
   "execution_count": 1,
   "metadata": {
    "collapsed": true
   },
   "outputs": [],
   "source": [
    "#Array Pair Sum"
   ]
  },
  {
   "cell_type": "code",
   "execution_count": 25,
   "metadata": {},
   "outputs": [],
   "source": [
    "def pair_sum(arr,k):\n",
    "    location_check1 = 0\n",
    "    counter = 0\n",
    "    for i in arr:\n",
    "       \n",
    "        location_check2 = 0\n",
    "\n",
    "        for j in arr:\n",
    "            if location_check1 < location_check2:\n",
    "                    if i+j == k:\n",
    "                        print('The Values {0} and {1} adds up to {2}'.format(i,j,k))\n",
    "                        counter += 1\n",
    "            location_check2 += 1 \n",
    "        location_check1 += 1\n",
    "    print('Number of pairs in {}, that adds upto {} is {}'.format(arr,k,counter))"
   ]
  },
  {
   "cell_type": "code",
   "execution_count": 28,
   "metadata": {},
   "outputs": [
    {
     "name": "stdout",
     "output_type": "stream",
     "text": [
      "The Values 1 and 4 adds up to 5\n",
      "The Values 1 and 4 adds up to 5\n",
      "The Values 1 and 4 adds up to 5\n",
      "The Values 3 and 2 adds up to 5\n",
      "The Values 3 and 2 adds up to 5\n",
      "The Values 3 and 2 adds up to 5\n",
      "The Values 3 and 2 adds up to 5\n",
      "The Values 3 and 2 adds up to 5\n",
      "The Values 2 and 3 adds up to 5\n",
      "The Values 2 and 3 adds up to 5\n",
      "The Values 2 and 3 adds up to 5\n",
      "The Values 2 and 3 adds up to 5\n",
      "The Values 2 and 3 adds up to 5\n",
      "The Values 2 and 3 adds up to 5\n",
      "The Values 1 and 4 adds up to 5\n",
      "The Values 1 and 4 adds up to 5\n",
      "The Values 1 and 4 adds up to 5\n",
      "The Values 1 and 4 adds up to 5\n",
      "The Values 1 and 4 adds up to 5\n",
      "The Values 1 and 4 adds up to 5\n",
      "The Values 1 and 4 adds up to 5\n",
      "The Values 1 and 4 adds up to 5\n",
      "The Values 1 and 4 adds up to 5\n",
      "The Values 2 and 3 adds up to 5\n",
      "The Values 2 and 3 adds up to 5\n",
      "The Values 2 and 3 adds up to 5\n",
      "The Values 3 and 2 adds up to 5\n",
      "The Values 3 and 2 adds up to 5\n",
      "The Values 4 and 1 adds up to 5\n",
      "The Values 4 and 1 adds up to 5\n",
      "The Values 1 and 4 adds up to 5\n",
      "The Values 1 and 4 adds up to 5\n",
      "The Values 2 and 3 adds up to 5\n",
      "The Values 2 and 3 adds up to 5\n",
      "The Values 3 and 2 adds up to 5\n",
      "The Values 4 and 1 adds up to 5\n",
      "The Values 1 and 4 adds up to 5\n",
      "The Values 2 and 3 adds up to 5\n",
      "Number of pairs in [1, 3, 2, 2, 1, 1, 1, 2, 3, 4, 5, 6, 1, 2, 3, 4, 5, 6, 1, 2, 3, 4, 5], that adds upto 5 is 38\n"
     ]
    }
   ],
   "source": [
    "pair_sum([1,3,2,2,1,1,1,2,3,4,5,6,1,2,3,4,5,6,1,2,3,4,5],5)"
   ]
  },
  {
   "cell_type": "code",
   "execution_count": 13,
   "metadata": {},
   "outputs": [],
   "source": [
    "def pair_sum2(arr,k):\n",
    "    print(arr[1])\n",
    "    location_check1 = 0\n",
    "    counter = 0\n",
    "    for i in range(0,len(arr)-1):\n",
    "        print(i)\n",
    "        \n",
    "        location_check2 = 0\n",
    "        location_check1 += 1\n",
    "\n",
    "        for j in arr:\n",
    "            if location_check1 != location_check2:\n",
    "                    if i+j == k:\n",
    "                        print(\"its a match\")\n",
    "                        counter += 1\n",
    "            location_check2 += 1 \n",
    "    print(counter)"
   ]
  },
  {
   "cell_type": "code",
   "execution_count": 14,
   "metadata": {},
   "outputs": [
    {
     "name": "stdout",
     "output_type": "stream",
     "text": [
      "3\n",
      "0\n",
      "1\n",
      "its a match\n",
      "2\n",
      "its a match\n",
      "2\n"
     ]
    }
   ],
   "source": [
    "pair_sum2([1,3,2,2],4)"
   ]
  },
  {
   "cell_type": "code",
   "execution_count": null,
   "metadata": {
    "collapsed": true
   },
   "outputs": [],
   "source": []
  }
 ],
 "metadata": {
  "kernelspec": {
   "display_name": "Python 3",
   "language": "python",
   "name": "python3"
  },
  "language_info": {
   "codemirror_mode": {
    "name": "ipython",
    "version": 3
   },
   "file_extension": ".py",
   "mimetype": "text/x-python",
   "name": "python",
   "nbconvert_exporter": "python",
   "pygments_lexer": "ipython3",
   "version": "3.6.3"
  }
 },
 "nbformat": 4,
 "nbformat_minor": 2
}
